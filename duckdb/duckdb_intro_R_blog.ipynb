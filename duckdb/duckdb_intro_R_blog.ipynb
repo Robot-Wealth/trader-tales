{
 "cells": [
  {
   "attachments": {},
   "cell_type": "markdown",
   "metadata": {},
   "source": [
    "# A Beginner's Guide to Using DuckDB with Stock Price Data in R\n",
    "\n",
    "In this blog post, I will demonstrate how to work with stock price data using the [DuckDB](https://duckdb.org/) database management system in R. \n",
    "\n",
    "DuckDB is a fast and lightweight analytical database engine that is designed to work with various programming languages, including R. You can use Duck DB from the command line or from a client library for your favourite language. In this areticle, I'll use the R client library. \n",
    "\n",
    "I will cover the following topics:\n",
    "\n",
    "- Why would we even want to use a database, and what are the drawbacks? (spoiler alert: DuckDB eliminates nearly all of these)\n",
    "- Installing DuckDB and loading the R package\n",
    "- Connecting to DuckDB and creating a database\n",
    "- Importing stock price data\n",
    "- Querying and analyzing the data\n",
    "\n"
   ]
  },
  {
   "attachments": {},
   "cell_type": "markdown",
   "metadata": {},
   "source": [
    "## Why use a database? What are the drawbacks? \n",
    "\n",
    "Let me give you some reasons why a database might be better than managing data in say flat files:\n",
    "\n",
    "- Databases are like neatly organized shelves, where everything has its place, making it easy to find and relate different bits of information. Flat files, however, are more like a big pile of papers, where finding something can be a challenge.\n",
    "- Databases make it simple to search and filter your data, kind of like having a super-smart assistant who knows exactly where everything is. With flat files, you’d have to go through everything manually, which can be time-consuming and tedious.\n",
    "- Databases have built-in checks to make sure your data stays consistent and reliable. Flat files rely more on you doing the checking and cleaning yourself.\n",
    "- Databases can handle large amounts of data efficiently. Flat files may become more chaotic and unruly as data size grows.\n",
    "- Databases use clever tricks to make searching and processing data faster. Flat files lack these optimizations, which can make them sluggish as your data piles up.\n",
    "\n",
    "Of course, there’s no free lunch. If we were to use a database, there’d of course be some tradeoffs. \n",
    "\n",
    "- Databases can be a bit more complex to set up and configure than flat files. \n",
    "- Databases often require some knowledge of their query language, like learning a new way to communicate. Flat files, on the other hand, require no new lingo.\n",
    "- Databases can sometimes be more resource-intensive, taking up more memory and processing power. Flat files are like traveling light, with just the essentials in your backpack.\n",
    "- Databases come with a lot of bells and whistles, which might be overkill for small projects or simple tasks. \n",
    "- Flat files are simple text or binary files, which can be easily opened and read by almost any software. Databases might require specific tools or drivers to access and manage the data.\n",
    "- Databases store data in a structured, binary format, which is not easily readable by humans. Flat files, being plain text or simple binary formats, can be more accessible and easier to understand at a glance.\n",
    "\n",
    "### DuckDB: Advantages without the Trade-Offs\n",
    "\n",
    "DuckDB tries to maximise the benefits of using a database while minimising the trade-offs. I think it does a really good job of this. \n",
    "\n",
    "DuckDB is a lightweight and fast database system that you can just plug into an application or code base and start using right away. I’ve been using it for a couple of weeks now, and it feels more like a really smart data assistant than a database. By that I mean that it requires literally zero setup and ongoing management – it just gives you the data you want with minimal effort on your part. \n",
    "\n",
    "One of the best things about DuckDB is that it’s embedded, meaning it’s a part of your application and doesn’t need a separate server or process. For example, you can use it from within an R session using its R client library. The same is true for Python, C++ and many other languages. So you can use it to easily run queries over datasets that won’t fit into memory using familiar data analysis tools. \n",
    "\n",
    "DuckDB is also super fast when it comes to crunching numbers and analyzing data. It’s specifically designed for analytics workflows. In the work I’ve been doing recently, I did some updates on the data using DuckDB and found that it performed similarly to a SQL-lite database. But when I simply *queried* the data, it was lightning fast. "
   ]
  },
  {
   "attachments": {},
   "cell_type": "markdown",
   "metadata": {},
   "source": [
    "## 1. Install and load\n",
    "\n",
    "Installing duckdb and loading the R library is simple. \n",
    "\n",
    "I'll also load the tidyverse library and show you how to use it to query the database. "
   ]
  },
  {
   "cell_type": "code",
   "execution_count": 3,
   "metadata": {
    "vscode": {
     "languageId": "r"
    }
   },
   "outputs": [],
   "source": [
    "#' Function for checking if a package is installed, and installing it if not\n",
    "install <- function(packages) {\n",
    "  to_install <- packages[which(!packages %in% rownames(installed.packages()))]\n",
    "  install.packages(to_install)\n",
    "}"
   ]
  },
  {
   "cell_type": "code",
   "execution_count": 6,
   "metadata": {
    "vscode": {
     "languageId": "r"
    }
   },
   "outputs": [],
   "source": [
    "install(packages = c(\"duckdb\", \"tidyverse\", \"stringr\"))\n",
    "\n",
    "library(duckdb)\n",
    "library(tidyverse)\n",
    "library(stringr)"
   ]
  },
  {
   "attachments": {},
   "cell_type": "markdown",
   "metadata": {},
   "source": [
    "## 2. Read in data from csv files\n",
    "\n",
    "In this example, we'll read in some stock price data from CSVs that live in GitHub. \n",
    "\n",
    "For the sake of the example, we'll:\n",
    "- Create an in-memory DuckDB\n",
    "- Read each csv file into a dataframe\n",
    "- Write the dataframe to a table in our DuckDB called \"prices\"\n",
    "- Remove the dataframe from our R session so that we can only work with the DuckDB\n",
    "\n",
    "I'm making an in-memory DuckDB just for the sake of the example, and this only exists for the life of my R session, or until I disconnect from it. But I'll also show you how to make one that persists on disk and that you can reconnect to later. \n",
    "\n",
    "In this example, we're only using \"small\" data, but this approach really shines when you have loads of data that you don't want to load into memory. Using DuckDB, you can easily and quickly query it on disk. "
   ]
  },
  {
   "cell_type": "code",
   "execution_count": 34,
   "metadata": {
    "vscode": {
     "languageId": "r"
    }
   },
   "outputs": [
    {
     "data": {
      "text/html": [
       "<table class=\"dataframe\">\n",
       "<caption>A tibble: 6 × 8</caption>\n",
       "<thead>\n",
       "\t<tr><th scope=col>Date</th><th scope=col>Open</th><th scope=col>High</th><th scope=col>Low</th><th scope=col>Close</th><th scope=col>Adj Close</th><th scope=col>Volume</th><th scope=col>Ticker</th></tr>\n",
       "\t<tr><th scope=col>&lt;date&gt;</th><th scope=col>&lt;dbl&gt;</th><th scope=col>&lt;dbl&gt;</th><th scope=col>&lt;dbl&gt;</th><th scope=col>&lt;dbl&gt;</th><th scope=col>&lt;dbl&gt;</th><th scope=col>&lt;dbl&gt;</th><th scope=col>&lt;chr&gt;</th></tr>\n",
       "</thead>\n",
       "<tbody>\n",
       "\t<tr><td>2009-12-31</td><td>  7.611786</td><td>  7.619643</td><td>  7.520</td><td>  7.526071</td><td> 6.405576</td><td>352410800</td><td>AAPL</td></tr>\n",
       "\t<tr><td>2009-12-31</td><td> 55.000000</td><td> 55.220001</td><td> 54.050</td><td> 54.130001</td><td>42.180111</td><td>  2189400</td><td>BA  </td></tr>\n",
       "\t<tr><td>2009-12-31</td><td> 57.599998</td><td> 57.959999</td><td> 56.990</td><td> 56.990002</td><td>39.844051</td><td>  3859700</td><td>CAT </td></tr>\n",
       "\t<tr><td>2009-12-31</td><td>126.586998</td><td>127.007645</td><td>125.000</td><td>125.143402</td><td>79.387985</td><td>  4417676</td><td>IBM </td></tr>\n",
       "\t<tr><td>2009-12-31</td><td> 30.980000</td><td> 30.990000</td><td> 30.480</td><td> 30.480000</td><td>23.265152</td><td> 31929700</td><td>MSFT</td></tr>\n",
       "\t<tr><td>2010-01-04</td><td>  7.622500</td><td>  7.660714</td><td>  7.585</td><td>  7.643214</td><td> 6.505280</td><td>493729600</td><td>AAPL</td></tr>\n",
       "</tbody>\n",
       "</table>\n"
      ],
      "text/latex": [
       "A tibble: 6 × 8\n",
       "\\begin{tabular}{llllllll}\n",
       " Date & Open & High & Low & Close & Adj Close & Volume & Ticker\\\\\n",
       " <date> & <dbl> & <dbl> & <dbl> & <dbl> & <dbl> & <dbl> & <chr>\\\\\n",
       "\\hline\n",
       "\t 2009-12-31 &   7.611786 &   7.619643 &   7.520 &   7.526071 &  6.405576 & 352410800 & AAPL\\\\\n",
       "\t 2009-12-31 &  55.000000 &  55.220001 &  54.050 &  54.130001 & 42.180111 &   2189400 & BA  \\\\\n",
       "\t 2009-12-31 &  57.599998 &  57.959999 &  56.990 &  56.990002 & 39.844051 &   3859700 & CAT \\\\\n",
       "\t 2009-12-31 & 126.586998 & 127.007645 & 125.000 & 125.143402 & 79.387985 &   4417676 & IBM \\\\\n",
       "\t 2009-12-31 &  30.980000 &  30.990000 &  30.480 &  30.480000 & 23.265152 &  31929700 & MSFT\\\\\n",
       "\t 2010-01-04 &   7.622500 &   7.660714 &   7.585 &   7.643214 &  6.505280 & 493729600 & AAPL\\\\\n",
       "\\end{tabular}\n"
      ],
      "text/markdown": [
       "\n",
       "A tibble: 6 × 8\n",
       "\n",
       "| Date &lt;date&gt; | Open &lt;dbl&gt; | High &lt;dbl&gt; | Low &lt;dbl&gt; | Close &lt;dbl&gt; | Adj Close &lt;dbl&gt; | Volume &lt;dbl&gt; | Ticker &lt;chr&gt; |\n",
       "|---|---|---|---|---|---|---|---|\n",
       "| 2009-12-31 |   7.611786 |   7.619643 |   7.520 |   7.526071 |  6.405576 | 352410800 | AAPL |\n",
       "| 2009-12-31 |  55.000000 |  55.220001 |  54.050 |  54.130001 | 42.180111 |   2189400 | BA   |\n",
       "| 2009-12-31 |  57.599998 |  57.959999 |  56.990 |  56.990002 | 39.844051 |   3859700 | CAT  |\n",
       "| 2009-12-31 | 126.586998 | 127.007645 | 125.000 | 125.143402 | 79.387985 |   4417676 | IBM  |\n",
       "| 2009-12-31 |  30.980000 |  30.990000 |  30.480 |  30.480000 | 23.265152 |  31929700 | MSFT |\n",
       "| 2010-01-04 |   7.622500 |   7.660714 |   7.585 |   7.643214 |  6.505280 | 493729600 | AAPL |\n",
       "\n"
      ],
      "text/plain": [
       "  Date       Open       High       Low     Close      Adj Close Volume   \n",
       "1 2009-12-31   7.611786   7.619643   7.520   7.526071  6.405576 352410800\n",
       "2 2009-12-31  55.000000  55.220001  54.050  54.130001 42.180111   2189400\n",
       "3 2009-12-31  57.599998  57.959999  56.990  56.990002 39.844051   3859700\n",
       "4 2009-12-31 126.586998 127.007645 125.000 125.143402 79.387985   4417676\n",
       "5 2009-12-31  30.980000  30.990000  30.480  30.480000 23.265152  31929700\n",
       "6 2010-01-04   7.622500   7.660714   7.585   7.643214  6.505280 493729600\n",
       "  Ticker\n",
       "1 AAPL  \n",
       "2 BA    \n",
       "3 CAT   \n",
       "4 IBM   \n",
       "5 MSFT  \n",
       "6 AAPL  "
      ]
     },
     "metadata": {},
     "output_type": "display_data"
    }
   ],
   "source": [
    "# list of URLs containing our csv files\n",
    "base_url <- \"https://raw.githubusercontent.com/Robot-Wealth/r-quant-recipes/master/data/\"\n",
    "stocks <- c(\"AAPL\", \"BA\", \"CAT\", \"IBM\", \"MSFT\")\n",
    "urls <- str_glue(\"{base_url}{stocks}.csv\")\n",
    "\n",
    "# read data into a dataframe\n",
    "prices_df <- urls %>% \n",
    "    map_dfr(read_csv, col_types = \"Dddddddc\") %>% \n",
    "    arrange(Date, Ticker)\n",
    "    \n",
    "head(prices_df)"
   ]
  },
  {
   "cell_type": "code",
   "execution_count": 36,
   "metadata": {
    "vscode": {
     "languageId": "r"
    }
   },
   "outputs": [],
   "source": [
    "# make an in-memory db and store the connection in a variable\n",
    "con <- dbConnect(duckdb::duckdb())  \n",
    "\n",
    "# to make a persistent db on disk (and to connect to it again later) do:\n",
    "# con <- dbConnect(duckdb::duckdb(dbdir = \"/path/to/db/location/mydatabase.duckdb\"))  \n",
    "\n",
    "# write our prices data to duckdb table\n",
    "table_name <- \"prices\"\n",
    "duckdb::dbWriteTable(con, table_name, prices_df)\n",
    "\n",
    "# remove prices_df\n",
    "rm(prices_df)"
   ]
  },
  {
   "attachments": {},
   "cell_type": "markdown",
   "metadata": {
    "vscode": {
     "languageId": "r"
    }
   },
   "source": [
    "## 3. Query some data in our db\n",
    "\n",
    "We can use `tidyverse` operations to query the DuckDB directly. \n",
    "\n",
    "If you pass `dplyr::tbl` the `DBIConnection` object we created above (`con`) and the name of the table you want to query, you'll get a reference to that table. You can then query it without bringing data back into your R session.\n",
    "\n",
    "In fact, this approach will *only* bring data back into your R session if you explicitly ask for it using the `collect` function, which I'll show you shortly. \n",
    "\n",
    "Here's how you could get the number of records, the earliest record, and the latest record for each ticker without bringing any data in your R session:"
   ]
  },
  {
   "cell_type": "code",
   "execution_count": 40,
   "metadata": {
    "vscode": {
     "languageId": "r"
    }
   },
   "outputs": [
    {
     "data": {
      "text/plain": [
       "\u001b[90m# Source:   SQL [5 x 4]\u001b[39m\n",
       "\u001b[90m# Database: DuckDB 0.7.1 [Kris@Windows 10 x64:R 4.2.3/:memory:]\u001b[39m\n",
       "  Ticker Count From       To        \n",
       "  \u001b[3m\u001b[90m<chr>\u001b[39m\u001b[23m  \u001b[3m\u001b[90m<dbl>\u001b[39m\u001b[23m \u001b[3m\u001b[90m<date>\u001b[39m\u001b[23m     \u001b[3m\u001b[90m<date>\u001b[39m\u001b[23m    \n",
       "\u001b[90m1\u001b[39m AAPL    \u001b[4m3\u001b[24m354 2009-12-31 2023-04-28\n",
       "\u001b[90m2\u001b[39m BA      \u001b[4m3\u001b[24m354 2009-12-31 2023-04-28\n",
       "\u001b[90m3\u001b[39m CAT     \u001b[4m3\u001b[24m354 2009-12-31 2023-04-28\n",
       "\u001b[90m4\u001b[39m IBM     \u001b[4m3\u001b[24m354 2009-12-31 2023-04-28\n",
       "\u001b[90m5\u001b[39m MSFT    \u001b[4m3\u001b[24m354 2009-12-31 2023-04-28"
      ]
     },
     "metadata": {},
     "output_type": "display_data"
    }
   ],
   "source": [
    "tbl(con, \"prices\") %>% \n",
    "  group_by(Ticker) %>% \n",
    "  summarise(\n",
    "    Count = n(),\n",
    "    From = first(Date),\n",
    "    To = last(Date)\n",
    "  )"
   ]
  },
  {
   "attachments": {},
   "cell_type": "markdown",
   "metadata": {},
   "source": [
    "Notice the metadata you get with the output above. The source is a SQL table in an in-memory DuckDB. \n",
    "\n",
    "You can also send SQL to be executed on the database. If you want to get the result back in your R session, use `dbGetQuery`, otherwise use `dbSendQuery`:\n"
   ]
  },
  {
   "cell_type": "code",
   "execution_count": 41,
   "metadata": {
    "vscode": {
     "languageId": "r"
    }
   },
   "outputs": [
    {
     "data": {
      "text/html": [
       "<table class=\"dataframe\">\n",
       "<caption>A data.frame: 5 × 8</caption>\n",
       "<thead>\n",
       "\t<tr><th scope=col>Date</th><th scope=col>Open</th><th scope=col>High</th><th scope=col>Low</th><th scope=col>Close</th><th scope=col>Adj Close</th><th scope=col>Volume</th><th scope=col>Ticker</th></tr>\n",
       "\t<tr><th scope=col>&lt;date&gt;</th><th scope=col>&lt;dbl&gt;</th><th scope=col>&lt;dbl&gt;</th><th scope=col>&lt;dbl&gt;</th><th scope=col>&lt;dbl&gt;</th><th scope=col>&lt;dbl&gt;</th><th scope=col>&lt;dbl&gt;</th><th scope=col>&lt;chr&gt;</th></tr>\n",
       "</thead>\n",
       "<tbody>\n",
       "\t<tr><td>2009-12-31</td><td>  7.611786</td><td>  7.619643</td><td>  7.52</td><td>  7.526071</td><td> 6.405576</td><td>352410800</td><td>AAPL</td></tr>\n",
       "\t<tr><td>2009-12-31</td><td> 55.000000</td><td> 55.220001</td><td> 54.05</td><td> 54.130001</td><td>42.180111</td><td>  2189400</td><td>BA  </td></tr>\n",
       "\t<tr><td>2009-12-31</td><td> 57.599998</td><td> 57.959999</td><td> 56.99</td><td> 56.990002</td><td>39.844051</td><td>  3859700</td><td>CAT </td></tr>\n",
       "\t<tr><td>2009-12-31</td><td>126.586998</td><td>127.007645</td><td>125.00</td><td>125.143402</td><td>79.387985</td><td>  4417676</td><td>IBM </td></tr>\n",
       "\t<tr><td>2009-12-31</td><td> 30.980000</td><td> 30.990000</td><td> 30.48</td><td> 30.480000</td><td>23.265152</td><td> 31929700</td><td>MSFT</td></tr>\n",
       "</tbody>\n",
       "</table>\n"
      ],
      "text/latex": [
       "A data.frame: 5 × 8\n",
       "\\begin{tabular}{llllllll}\n",
       " Date & Open & High & Low & Close & Adj Close & Volume & Ticker\\\\\n",
       " <date> & <dbl> & <dbl> & <dbl> & <dbl> & <dbl> & <dbl> & <chr>\\\\\n",
       "\\hline\n",
       "\t 2009-12-31 &   7.611786 &   7.619643 &   7.52 &   7.526071 &  6.405576 & 352410800 & AAPL\\\\\n",
       "\t 2009-12-31 &  55.000000 &  55.220001 &  54.05 &  54.130001 & 42.180111 &   2189400 & BA  \\\\\n",
       "\t 2009-12-31 &  57.599998 &  57.959999 &  56.99 &  56.990002 & 39.844051 &   3859700 & CAT \\\\\n",
       "\t 2009-12-31 & 126.586998 & 127.007645 & 125.00 & 125.143402 & 79.387985 &   4417676 & IBM \\\\\n",
       "\t 2009-12-31 &  30.980000 &  30.990000 &  30.48 &  30.480000 & 23.265152 &  31929700 & MSFT\\\\\n",
       "\\end{tabular}\n"
      ],
      "text/markdown": [
       "\n",
       "A data.frame: 5 × 8\n",
       "\n",
       "| Date &lt;date&gt; | Open &lt;dbl&gt; | High &lt;dbl&gt; | Low &lt;dbl&gt; | Close &lt;dbl&gt; | Adj Close &lt;dbl&gt; | Volume &lt;dbl&gt; | Ticker &lt;chr&gt; |\n",
       "|---|---|---|---|---|---|---|---|\n",
       "| 2009-12-31 |   7.611786 |   7.619643 |   7.52 |   7.526071 |  6.405576 | 352410800 | AAPL |\n",
       "| 2009-12-31 |  55.000000 |  55.220001 |  54.05 |  54.130001 | 42.180111 |   2189400 | BA   |\n",
       "| 2009-12-31 |  57.599998 |  57.959999 |  56.99 |  56.990002 | 39.844051 |   3859700 | CAT  |\n",
       "| 2009-12-31 | 126.586998 | 127.007645 | 125.00 | 125.143402 | 79.387985 |   4417676 | IBM  |\n",
       "| 2009-12-31 |  30.980000 |  30.990000 |  30.48 |  30.480000 | 23.265152 |  31929700 | MSFT |\n",
       "\n"
      ],
      "text/plain": [
       "  Date       Open       High       Low    Close      Adj Close Volume    Ticker\n",
       "1 2009-12-31   7.611786   7.619643   7.52   7.526071  6.405576 352410800 AAPL  \n",
       "2 2009-12-31  55.000000  55.220001  54.05  54.130001 42.180111   2189400 BA    \n",
       "3 2009-12-31  57.599998  57.959999  56.99  56.990002 39.844051   3859700 CAT   \n",
       "4 2009-12-31 126.586998 127.007645 125.00 125.143402 79.387985   4417676 IBM   \n",
       "5 2009-12-31  30.980000  30.990000  30.48  30.480000 23.265152  31929700 MSFT  "
      ]
     },
     "metadata": {},
     "output_type": "display_data"
    }
   ],
   "source": [
    "result <- dbGetQuery(con, paste0(\"SELECT * FROM prices LIMIT 5\"))\n",
    "result"
   ]
  },
  {
   "attachments": {},
   "cell_type": "markdown",
   "metadata": {},
   "source": [
    "You can do the operation above by writing an equivalent `dplyr` operation and piping it into `collect`:"
   ]
  },
  {
   "cell_type": "code",
   "execution_count": 42,
   "metadata": {
    "vscode": {
     "languageId": "r"
    }
   },
   "outputs": [
    {
     "data": {
      "text/html": [
       "<table class=\"dataframe\">\n",
       "<caption>A tibble: 5 × 8</caption>\n",
       "<thead>\n",
       "\t<tr><th scope=col>Date</th><th scope=col>Open</th><th scope=col>High</th><th scope=col>Low</th><th scope=col>Close</th><th scope=col>Adj Close</th><th scope=col>Volume</th><th scope=col>Ticker</th></tr>\n",
       "\t<tr><th scope=col>&lt;date&gt;</th><th scope=col>&lt;dbl&gt;</th><th scope=col>&lt;dbl&gt;</th><th scope=col>&lt;dbl&gt;</th><th scope=col>&lt;dbl&gt;</th><th scope=col>&lt;dbl&gt;</th><th scope=col>&lt;dbl&gt;</th><th scope=col>&lt;chr&gt;</th></tr>\n",
       "</thead>\n",
       "<tbody>\n",
       "\t<tr><td>2009-12-31</td><td>  7.611786</td><td>  7.619643</td><td>  7.52</td><td>  7.526071</td><td> 6.405576</td><td>352410800</td><td>AAPL</td></tr>\n",
       "\t<tr><td>2009-12-31</td><td> 55.000000</td><td> 55.220001</td><td> 54.05</td><td> 54.130001</td><td>42.180111</td><td>  2189400</td><td>BA  </td></tr>\n",
       "\t<tr><td>2009-12-31</td><td> 57.599998</td><td> 57.959999</td><td> 56.99</td><td> 56.990002</td><td>39.844051</td><td>  3859700</td><td>CAT </td></tr>\n",
       "\t<tr><td>2009-12-31</td><td>126.586998</td><td>127.007645</td><td>125.00</td><td>125.143402</td><td>79.387985</td><td>  4417676</td><td>IBM </td></tr>\n",
       "\t<tr><td>2009-12-31</td><td> 30.980000</td><td> 30.990000</td><td> 30.48</td><td> 30.480000</td><td>23.265152</td><td> 31929700</td><td>MSFT</td></tr>\n",
       "</tbody>\n",
       "</table>\n"
      ],
      "text/latex": [
       "A tibble: 5 × 8\n",
       "\\begin{tabular}{llllllll}\n",
       " Date & Open & High & Low & Close & Adj Close & Volume & Ticker\\\\\n",
       " <date> & <dbl> & <dbl> & <dbl> & <dbl> & <dbl> & <dbl> & <chr>\\\\\n",
       "\\hline\n",
       "\t 2009-12-31 &   7.611786 &   7.619643 &   7.52 &   7.526071 &  6.405576 & 352410800 & AAPL\\\\\n",
       "\t 2009-12-31 &  55.000000 &  55.220001 &  54.05 &  54.130001 & 42.180111 &   2189400 & BA  \\\\\n",
       "\t 2009-12-31 &  57.599998 &  57.959999 &  56.99 &  56.990002 & 39.844051 &   3859700 & CAT \\\\\n",
       "\t 2009-12-31 & 126.586998 & 127.007645 & 125.00 & 125.143402 & 79.387985 &   4417676 & IBM \\\\\n",
       "\t 2009-12-31 &  30.980000 &  30.990000 &  30.48 &  30.480000 & 23.265152 &  31929700 & MSFT\\\\\n",
       "\\end{tabular}\n"
      ],
      "text/markdown": [
       "\n",
       "A tibble: 5 × 8\n",
       "\n",
       "| Date &lt;date&gt; | Open &lt;dbl&gt; | High &lt;dbl&gt; | Low &lt;dbl&gt; | Close &lt;dbl&gt; | Adj Close &lt;dbl&gt; | Volume &lt;dbl&gt; | Ticker &lt;chr&gt; |\n",
       "|---|---|---|---|---|---|---|---|\n",
       "| 2009-12-31 |   7.611786 |   7.619643 |   7.52 |   7.526071 |  6.405576 | 352410800 | AAPL |\n",
       "| 2009-12-31 |  55.000000 |  55.220001 |  54.05 |  54.130001 | 42.180111 |   2189400 | BA   |\n",
       "| 2009-12-31 |  57.599998 |  57.959999 |  56.99 |  56.990002 | 39.844051 |   3859700 | CAT  |\n",
       "| 2009-12-31 | 126.586998 | 127.007645 | 125.00 | 125.143402 | 79.387985 |   4417676 | IBM  |\n",
       "| 2009-12-31 |  30.980000 |  30.990000 |  30.48 |  30.480000 | 23.265152 |  31929700 | MSFT |\n",
       "\n"
      ],
      "text/plain": [
       "  Date       Open       High       Low    Close      Adj Close Volume    Ticker\n",
       "1 2009-12-31   7.611786   7.619643   7.52   7.526071  6.405576 352410800 AAPL  \n",
       "2 2009-12-31  55.000000  55.220001  54.05  54.130001 42.180111   2189400 BA    \n",
       "3 2009-12-31  57.599998  57.959999  56.99  56.990002 39.844051   3859700 CAT   \n",
       "4 2009-12-31 126.586998 127.007645 125.00 125.143402 79.387985   4417676 IBM   \n",
       "5 2009-12-31  30.980000  30.990000  30.48  30.480000 23.265152  31929700 MSFT  "
      ]
     },
     "metadata": {},
     "output_type": "display_data"
    }
   ],
   "source": [
    "tbl(con, \"prices\") %>% \n",
    "  head(5) %>% \n",
    "  collect()"
   ]
  },
  {
   "attachments": {},
   "cell_type": "markdown",
   "metadata": {},
   "source": [
    "Under the hood, `dplyr` is translating it's operations into SQL. However, some operations don't translate easily - particularly window operations (eg moving average) and some functions that aggregate across rows (eg mean). \n",
    "\n",
    "For these we'd need to execute actual SQL or rewrite our queries to be more SQL-friendly:"
   ]
  },
  {
   "cell_type": "code",
   "execution_count": 49,
   "metadata": {
    "vscode": {
     "languageId": "r"
    }
   },
   "outputs": [
    {
     "data": {
      "text/plain": [
       "\u001b[90m# Source:   SQL [6 x 9]\u001b[39m\n",
       "\u001b[90m# Database: DuckDB 0.7.1 [Kris@Windows 10 x64:R 4.2.3/:memory:]\u001b[39m\n",
       "  Date         Open   High    Low  Close `Adj Close`    Volume Ticker   TWAP\n",
       "  \u001b[3m\u001b[90m<date>\u001b[39m\u001b[23m      \u001b[3m\u001b[90m<dbl>\u001b[39m\u001b[23m  \u001b[3m\u001b[90m<dbl>\u001b[39m\u001b[23m  \u001b[3m\u001b[90m<dbl>\u001b[39m\u001b[23m  \u001b[3m\u001b[90m<dbl>\u001b[39m\u001b[23m       \u001b[3m\u001b[90m<dbl>\u001b[39m\u001b[23m     \u001b[3m\u001b[90m<dbl>\u001b[39m\u001b[23m \u001b[3m\u001b[90m<chr>\u001b[39m\u001b[23m   \u001b[3m\u001b[90m<dbl>\u001b[39m\u001b[23m\n",
       "\u001b[90m1\u001b[39m 2009-12-31   7.61   7.62   7.52   7.53        6.41 352\u001b[4m4\u001b[24m\u001b[4m1\u001b[24m\u001b[4m0\u001b[24m800 AAPL     7.57\n",
       "\u001b[90m2\u001b[39m 2009-12-31  55     55.2   54.0   54.1        42.2    2\u001b[4m1\u001b[24m\u001b[4m8\u001b[24m\u001b[4m9\u001b[24m400 BA      54.6 \n",
       "\u001b[90m3\u001b[39m 2009-12-31  57.6   58.0   57.0   57.0        39.8    3\u001b[4m8\u001b[24m\u001b[4m5\u001b[24m\u001b[4m9\u001b[24m700 CAT     57.4 \n",
       "\u001b[90m4\u001b[39m 2009-12-31 127.   127.   125    125.         79.4    4\u001b[4m4\u001b[24m\u001b[4m1\u001b[24m\u001b[4m7\u001b[24m676 IBM    126.  \n",
       "\u001b[90m5\u001b[39m 2009-12-31  31.0   31.0   30.5   30.5        23.3   31\u001b[4m9\u001b[24m\u001b[4m2\u001b[24m\u001b[4m9\u001b[24m700 MSFT    30.7 \n",
       "\u001b[90m6\u001b[39m 2010-01-04   7.62   7.66   7.58   7.64        6.51 493\u001b[4m7\u001b[24m\u001b[4m2\u001b[24m\u001b[4m9\u001b[24m600 AAPL     7.63"
      ]
     },
     "metadata": {},
     "output_type": "display_data"
    }
   ],
   "source": [
    "# Basic TWAP approximation\n",
    "\n",
    "# won't work\n",
    "# tbl(con, \"prices\") %>% \n",
    "#    dplyr::mutate(TWAP = mean(c(Open, High, Low, Close))) %>% \n",
    "#    head()\n",
    "  \n",
    "# will work\n",
    "tbl(con, \"prices\") %>% \n",
    "   dplyr::mutate(TWAP = (Open + High + Low + Close)/4) %>% \n",
    "   head()"
   ]
  },
  {
   "attachments": {},
   "cell_type": "markdown",
   "metadata": {},
   "source": [
    "## 5. Updating data in the DuckDB"
   ]
  },
  {
   "attachments": {},
   "cell_type": "markdown",
   "metadata": {},
   "source": [
    "Here's a 60-day moving average calculation in SQL (this wouldn't work if I tried to do it in R) that updates the `prices` table. \n",
    "\n",
    "In this case I want to update the actual table in the DuckDB. To do that, I need to use `DBI::dbExecute` rather than `DBI::dbSendQuery`. Also, I can't do this with `dplyr` since it can't update data in the table. \n",
    "\n",
    "`dbExecute` returns the number of affected rows:"
   ]
  },
  {
   "cell_type": "code",
   "execution_count": null,
   "metadata": {
    "vscode": {
     "languageId": "r"
    }
   },
   "outputs": [
    {
     "data": {
      "text/html": [
       "16770"
      ],
      "text/latex": [
       "16770"
      ],
      "text/markdown": [
       "16770"
      ],
      "text/plain": [
       "[1] 16770"
      ]
     },
     "metadata": {},
     "output_type": "display_data"
    }
   ],
   "source": [
    "# 60-day moving average\n",
    "affected_rows <- dbExecute(con, \n",
    "    'ALTER TABLE prices ADD COLUMN IF NOT EXISTS MA60 DOUBLE;\n",
    "     UPDATE prices SET MA60 = t2.MA60\n",
    "     FROM (\n",
    "        SELECT Ticker, Date, AVG(\"Adj Close\") OVER (\n",
    "            PARTITION BY Ticker ORDER BY Date ROWS BETWEEN 59 PRECEDING AND CURRENT ROW\n",
    "        ) AS MA60\n",
    "    FROM prices\n",
    "    ) t2\n",
    "WHERE prices.Ticker = t2.Ticker AND prices.Date = t2.Date;'\n",
    ")\n",
    "\n",
    "affected_rows"
   ]
  },
  {
   "attachments": {},
   "cell_type": "markdown",
   "metadata": {},
   "source": [
    "An extra column (MA60) has been added to the table:"
   ]
  },
  {
   "cell_type": "code",
   "execution_count": 60,
   "metadata": {
    "vscode": {
     "languageId": "r"
    }
   },
   "outputs": [
    {
     "data": {
      "text/plain": [
       "\u001b[90m# Source:   SQL [6 x 9]\u001b[39m\n",
       "\u001b[90m# Database: DuckDB 0.7.1 [Kris@Windows 10 x64:R 4.2.3/:memory:]\u001b[39m\n",
       "  Date         Open   High    Low  Close `Adj Close`    Volume Ticker  MA60\n",
       "  \u001b[3m\u001b[90m<date>\u001b[39m\u001b[23m      \u001b[3m\u001b[90m<dbl>\u001b[39m\u001b[23m  \u001b[3m\u001b[90m<dbl>\u001b[39m\u001b[23m  \u001b[3m\u001b[90m<dbl>\u001b[39m\u001b[23m  \u001b[3m\u001b[90m<dbl>\u001b[39m\u001b[23m       \u001b[3m\u001b[90m<dbl>\u001b[39m\u001b[23m     \u001b[3m\u001b[90m<dbl>\u001b[39m\u001b[23m \u001b[3m\u001b[90m<chr>\u001b[39m\u001b[23m  \u001b[3m\u001b[90m<dbl>\u001b[39m\u001b[23m\n",
       "\u001b[90m1\u001b[39m 2009-12-31   7.61   7.62   7.52   7.53        6.41 352\u001b[4m4\u001b[24m\u001b[4m1\u001b[24m\u001b[4m0\u001b[24m800 AAPL    6.41\n",
       "\u001b[90m2\u001b[39m 2009-12-31  55     55.2   54.0   54.1        42.2    2\u001b[4m1\u001b[24m\u001b[4m8\u001b[24m\u001b[4m9\u001b[24m400 BA     42.2 \n",
       "\u001b[90m3\u001b[39m 2009-12-31  57.6   58.0   57.0   57.0        39.8    3\u001b[4m8\u001b[24m\u001b[4m5\u001b[24m\u001b[4m9\u001b[24m700 CAT    39.8 \n",
       "\u001b[90m4\u001b[39m 2009-12-31 127.   127.   125    125.         79.4    4\u001b[4m4\u001b[24m\u001b[4m1\u001b[24m\u001b[4m7\u001b[24m676 IBM    79.4 \n",
       "\u001b[90m5\u001b[39m 2009-12-31  31.0   31.0   30.5   30.5        23.3   31\u001b[4m9\u001b[24m\u001b[4m2\u001b[24m\u001b[4m9\u001b[24m700 MSFT   23.3 \n",
       "\u001b[90m6\u001b[39m 2010-01-04   7.62   7.66   7.58   7.64        6.51 493\u001b[4m7\u001b[24m\u001b[4m2\u001b[24m\u001b[4m9\u001b[24m600 AAPL    6.46"
      ]
     },
     "metadata": {},
     "output_type": "display_data"
    }
   ],
   "source": [
    "tbl(con, \"prices\") %>% head()"
   ]
  },
  {
   "attachments": {},
   "cell_type": "markdown",
   "metadata": {},
   "source": [
    "Let's plot it:"
   ]
  },
  {
   "cell_type": "code",
   "execution_count": 59,
   "metadata": {
    "vscode": {
     "languageId": "r"
    }
   },
   "outputs": [
    {
     "data": {
      "image/png": "[encoded data removed]",
      "text/plain": [
       "plot without title"
      ]
     },
     "metadata": {
      "image/png": {
       "height": 420,
       "width": 840
      }
     },
     "output_type": "display_data"
    }
   ],
   "source": [
    "# Set chart options\n",
    "options(repr.plot.width = 14, repr.plot.height=7)\n",
    "theme_set(theme_bw())\n",
    "theme_update(text = element_text(size = 20))\n",
    "\n",
    "# plot\n",
    "tbl(con, \"prices\") %>% \n",
    "  select(Date, Ticker, `Adj Close`, MA60) %>% \n",
    "  pivot_longer(cols = c(`Adj Close`, MA60), names_to = \"Type\", values_to = \"Price\") %>% \n",
    "  ggplot(aes(x = Date, y = Price, colour = Type)) +\n",
    "    geom_line() +\n",
    "    facet_wrap(~Ticker) +\n",
    "    labs(title = \"Closing prices and their 60-day moving average\")"
   ]
  },
  {
   "attachments": {},
   "cell_type": "markdown",
   "metadata": {},
   "source": [
    "## 6. Want to see the SQL?\n",
    "\n",
    "Use `show_query` to see the SQL that `dplyr` is executing under the hood:"
   ]
  },
  {
   "cell_type": "code",
   "execution_count": 62,
   "metadata": {
    "vscode": {
     "languageId": "r"
    }
   },
   "outputs": [
    {
     "name": "stdout",
     "output_type": "stream",
     "text": [
      "<SQL>\n",
      "\u001b[34mSELECT\u001b[39m\n",
      "  Ticker,\n",
      "  MAX('Adj Close')\u001b[34m AS \u001b[39mhighest_price,\n",
      "  MIN('Adj Close')\u001b[34m AS \u001b[39mlowest_price\n",
      "\u001b[34mFROM\u001b[39m prices\n",
      "\u001b[34mWHERE\u001b[39m (Date >= '2023-01-01')\n",
      "\u001b[34mGROUP BY\u001b[39m Ticker\n"
     ]
    }
   ],
   "source": [
    "tbl(con, \"prices\") %>% \n",
    "    dplyr::filter(Date >= \"2023-01-01\") %>% \n",
    "    dplyr::group_by(Ticker) %>% \n",
    "    summarise(highest_price = max(\"Adj Close\"), lowest_price = min(\"Adj Close\")) %>% \n",
    "    show_query()"
   ]
  },
  {
   "attachments": {},
   "cell_type": "markdown",
   "metadata": {},
   "source": [
    "## Conclusion\n",
    "\n",
    "I hope this article demonstrated just how easy it is to use DuckDB in your analytics workflows. Let me know in the comments if this is something you would use, or are using. \n",
    "\n",
    "If you want the notebook that this article is generated from, grab it from GitHub [here](https://github.com/Robot-Wealth/r-quant-recipes/tree/master/duckdb/duckdb_intro_R.ipynb)."
   ]
  }
 ],
 "metadata": {
  "kernelspec": {
   "display_name": "R",
   "language": "R",
   "name": "ir"
  },
  "language_info": {
   "codemirror_mode": "r",
   "file_extension": ".r",
   "mimetype": "text/x-r-source",
   "name": "R",
   "pygments_lexer": "r",
   "version": "4.2.3"
  },
  "orig_nbformat": 4
 },
 "nbformat": 4,
 "nbformat_minor": 2
}
